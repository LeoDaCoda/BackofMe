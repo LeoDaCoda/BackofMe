{
 "cells": [
  {
   "cell_type": "markdown",
   "source": [
    "# GitPy\n",
    "### https://gitpython.readthedocs.io/en/stable/index.html"
   ],
   "metadata": {
    "collapsed": false
   }
  },
  {
   "cell_type": "markdown",
   "source": [
    "### Install && Imports"
   ],
   "metadata": {
    "collapsed": false
   }
  },
  {
   "cell_type": "code",
   "execution_count": null,
   "outputs": [],
   "source": [
    "!pip install -r requirements.txt"
   ],
   "metadata": {
    "collapsed": false
   }
  },
  {
   "cell_type": "code",
   "execution_count": 3,
   "outputs": [],
   "source": [
    "from git import Repo"
   ],
   "metadata": {
    "collapsed": false
   }
  },
  {
   "cell_type": "markdown",
   "source": [
    "## Configure local repo"
   ],
   "metadata": {
    "collapsed": false
   }
  },
  {
   "cell_type": "code",
   "execution_count": 4,
   "outputs": [],
   "source": [
    "local_root = 'test_file_sys'"
   ],
   "metadata": {
    "collapsed": false
   }
  },
  {
   "cell_type": "code",
   "execution_count": 5,
   "outputs": [],
   "source": [
    "mrrepo = Repo(local_root)"
   ],
   "metadata": {
    "collapsed": false
   }
  },
  {
   "cell_type": "markdown",
   "source": [
    "## Display level 1 contents"
   ],
   "metadata": {
    "collapsed": false
   }
  },
  {
   "cell_type": "code",
   "execution_count": 7,
   "outputs": [
    {
     "data": {
      "text/plain": "[<git.Tree \"09738889ae1914811d418aeefc52a94b50e1a3fb\">,\n <git.Tree \"32b408c2333033af5da5cd7eec0fbeb1e2101c59\">,\n <git.Blob \"e69de29bb2d1d6434b8b29ae775ad8c2e48c5391\">]"
     },
     "execution_count": 7,
     "metadata": {},
     "output_type": "execute_result"
    }
   ],
   "source": [
    "tree = mrrepo.tree()\n",
    "files_dirs = [fd for fd in tree]\n",
    "files_dirs"
   ],
   "metadata": {
    "collapsed": false
   }
  },
  {
   "cell_type": "markdown",
   "source": [
    "#### Prettier"
   ],
   "metadata": {
    "collapsed": false
   }
  },
  {
   "cell_type": "code",
   "execution_count": 8,
   "outputs": [
    {
     "data": {
      "text/plain": "[(<git.Tree \"09738889ae1914811d418aeefc52a94b50e1a3fb\">, 'Desktop', 'tree'),\n (<git.Tree \"32b408c2333033af5da5cd7eec0fbeb1e2101c59\">, 'Downloads', 'tree'),\n (<git.Blob \"e69de29bb2d1d6434b8b29ae775ad8c2e48c5391\">, 'file5.txt', 'blob')]"
     },
     "execution_count": 8,
     "metadata": {},
     "output_type": "execute_result"
    }
   ],
   "source": [
    "files_dirs = [(fd, fd.name, fd.type) for fd in tree]\n",
    "files_dirs"
   ],
   "metadata": {
    "collapsed": false
   }
  },
  {
   "cell_type": "markdown",
   "source": [
    "## Print all files and dirs"
   ],
   "metadata": {
    "collapsed": false
   }
  },
  {
   "cell_type": "code",
   "execution_count": 23,
   "outputs": [],
   "source": [
    "def print_files_from_git(tree, delim=' ', i = 0):\n",
    "    files_dirs = [fd for fd in tree]\n",
    "    for fd in files_dirs:\n",
    "        print(f'{delim if i != 0 else \"\"}| {fd.path}, {fd.type}')\n",
    "        if fd.type == \"tree\":\n",
    "            print_files_from_git(fd, delim*4, i+1)\n"
   ],
   "metadata": {
    "collapsed": false
   }
  },
  {
   "cell_type": "code",
   "execution_count": 24,
   "outputs": [
    {
     "name": "stdout",
     "output_type": "stream",
     "text": [
      "| Desktop, tree\n",
      "----| Desktop/1.txt, blob\n",
      "----| Desktop/file, blob\n",
      "| Downloads, tree\n",
      "----| Downloads/dir1, tree\n",
      "----------------| Downloads/dir1/file2.txt, blob\n",
      "----------------| Downloads/dir1/file3.txt, blob\n",
      "----| Downloads/file4.txt, blob\n",
      "| file5.txt, blob\n"
     ]
    }
   ],
   "source": [
    "print_files_from_git(tree, '-')"
   ],
   "metadata": {
    "collapsed": false
   }
  },
  {
   "cell_type": "markdown",
   "source": [
    "## File Versions"
   ],
   "metadata": {
    "collapsed": false
   }
  },
  {
   "cell_type": "code",
   "execution_count": 25,
   "outputs": [],
   "source": [
    "myfile = 'Downloads/dir1/file2.txt'"
   ],
   "metadata": {
    "collapsed": false
   }
  },
  {
   "cell_type": "code",
   "execution_count": 28,
   "outputs": [
    {
     "data": {
      "text/plain": "[<git.Commit \"480ddf7f381374b11d3e245690023b6f76f4d987\">,\n <git.Commit \"a8ed8bb567dff4de249781ed26cf7e6a34c74b04\">,\n <git.Commit \"f886763b622828dd57b01f815b10464cddcf8be6\">]"
     },
     "execution_count": 28,
     "metadata": {},
     "output_type": "execute_result"
    }
   ],
   "source": [
    "# https://stackoverflow.com/a/46984198\n",
    "commits_for_file_generator = mrrepo.iter_commits('--all', max_count=100, paths=myfile)\n",
    "commits_for_file = [c for c in commits_for_file_generator]\n",
    "commits_for_file\n"
   ],
   "metadata": {
    "collapsed": false
   }
  },
  {
   "cell_type": "code",
   "execution_count": 32,
   "outputs": [
    {
     "name": "stdout",
     "output_type": "stream",
     "text": [
      "480ddf7f381374b11d3e245690023b6f76f4d987\n",
      "a8ed8bb567dff4de249781ed26cf7e6a34c74b04\n",
      "f886763b622828dd57b01f815b10464cddcf8be6\n"
     ]
    }
   ],
   "source": [
    "for c in commits_for_file:\n",
    "    print(str(c))"
   ],
   "metadata": {
    "collapsed": false
   }
  },
  {
   "cell_type": "markdown",
   "source": [],
   "metadata": {
    "collapsed": false
   }
  },
  {
   "cell_type": "code",
   "execution_count": 91,
   "outputs": [],
   "source": [
    "def commitIDs_for_file(repo: Repo, file: str) -> tuple:\n",
    "    commits = repo.iter_commits('--all', max_count=100, paths=file)\n",
    "    return tuple([str(c) for c in commits])\n"
   ],
   "metadata": {
    "collapsed": false
   }
  },
  {
   "cell_type": "code",
   "execution_count": 92,
   "outputs": [
    {
     "data": {
      "text/plain": "('480ddf7f381374b11d3e245690023b6f76f4d987',\n 'a8ed8bb567dff4de249781ed26cf7e6a34c74b04',\n 'f886763b622828dd57b01f815b10464cddcf8be6')"
     },
     "execution_count": 92,
     "metadata": {},
     "output_type": "execute_result"
    }
   ],
   "source": [
    "commitIDs_for_file(mrrepo, myfile)"
   ],
   "metadata": {
    "collapsed": false
   }
  },
  {
   "cell_type": "markdown",
   "source": [
    "#### Let get Fancy $$"
   ],
   "metadata": {
    "collapsed": false
   }
  },
  {
   "cell_type": "code",
   "execution_count": 93,
   "outputs": [],
   "source": [
    "def print_files_from_git(tree, func, repo=mrrepo, delim=' ', i = 0):\n",
    "    files_dirs = [fd for fd in tree]\n",
    "    for fd in files_dirs:\n",
    "        if fd.type == \"tree\":\n",
    "            print(f'{delim if i != 0 else \"\"}| {fd.path}, {fd.type}')\n",
    "            print_files_from_git(fd, func, delim=delim*4, i=i+1)\n",
    "        else:\n",
    "            print(f'{delim if i != 0 else \"\"}| {fd.path}, {fd.type}', end=' ')\n",
    "            print(func(repo, fd.path))"
   ],
   "metadata": {
    "collapsed": false
   }
  },
  {
   "cell_type": "code",
   "execution_count": 96,
   "outputs": [
    {
     "name": "stdout",
     "output_type": "stream",
     "text": [
      "| Desktop, tree\n",
      "----| Desktop/1.txt, blob ('ece86661a0e1925ae8ef5c4a133f2efef0ffaa30', 'f886763b622828dd57b01f815b10464cddcf8be6')\n",
      "----| Desktop/file, blob ('f886763b622828dd57b01f815b10464cddcf8be6',)\n",
      "| Downloads, tree\n",
      "----| Downloads/dir1, tree\n",
      "----------------| Downloads/dir1/file2.txt, blob ('480ddf7f381374b11d3e245690023b6f76f4d987', 'a8ed8bb567dff4de249781ed26cf7e6a34c74b04', 'f886763b622828dd57b01f815b10464cddcf8be6')\n",
      "----------------| Downloads/dir1/file3.txt, blob ('f886763b622828dd57b01f815b10464cddcf8be6',)\n",
      "----| Downloads/file4.txt, blob ('f886763b622828dd57b01f815b10464cddcf8be6',)\n",
      "| file5.txt, blob ('f886763b622828dd57b01f815b10464cddcf8be6',)\n"
     ]
    }
   ],
   "source": [
    "tree = mrrepo.tree()\n",
    "print_files_from_git(tree, func=commitIDs_for_file, delim='-')"
   ],
   "metadata": {
    "collapsed": false
   }
  },
  {
   "cell_type": "markdown",
   "source": [
    "## Printing file contents"
   ],
   "metadata": {
    "collapsed": false
   }
  },
  {
   "cell_type": "code",
   "execution_count": 117,
   "outputs": [],
   "source": [
    "myfile = 'Downloads/dir1/file2.txt'\n",
    "tree = mrrepo.tree()\n",
    "path = myfile.split(\"/\")"
   ],
   "metadata": {
    "collapsed": false
   }
  },
  {
   "cell_type": "code",
   "execution_count": 118,
   "outputs": [
    {
     "data": {
      "text/plain": "<git.Blob \"e4d63b207dab9939a4f734aa334b92e5de0c9c04\">"
     },
     "execution_count": 118,
     "metadata": {},
     "output_type": "execute_result"
    }
   ],
   "source": [
    "sub_dir = tree\n",
    "for p in path: sub_dir = sub_dir[p]\n",
    "sub_dir"
   ],
   "metadata": {
    "collapsed": false
   }
  },
  {
   "cell_type": "code",
   "execution_count": 119,
   "outputs": [
    {
     "name": "stdout",
     "output_type": "stream",
     "text": [
      "random thoughts this should be my diary\n",
      "\n",
      "monday - got a free chinese meal\n"
     ]
    }
   ],
   "source": [
    "print(sub_dir.data_stream.read().decode())"
   ],
   "metadata": {
    "collapsed": false
   }
  },
  {
   "cell_type": "markdown",
   "source": [
    "### Printing previous versions"
   ],
   "metadata": {
    "collapsed": false
   }
  },
  {
   "cell_type": "code",
   "execution_count": null,
   "outputs": [],
   "source": [
    "myfile = 'Downloads/dir1/file2.txt'\n",
    "tree = mrrepo.tree()\n",
    "path = myfile.split(\"/\")\n",
    "commits = commitIDs_for_file(mrrepo, myfile)"
   ],
   "metadata": {
    "collapsed": false
   }
  },
  {
   "cell_type": "code",
   "execution_count": 125,
   "outputs": [],
   "source": [
    "# c = mrrepo.commit(commits[1])\n",
    "# c_tree = c.tree\n",
    "commit_trees = [mrrepo.commit(c).tree for c in commits]\n",
    "targets = [commit_trees[i][f'{myfile}'] for i in range(len(commit_trees))]"
   ],
   "metadata": {
    "collapsed": false
   }
  },
  {
   "cell_type": "code",
   "execution_count": 129,
   "outputs": [
    {
     "name": "stdout",
     "output_type": "stream",
     "text": [
      "random thoughts this should be my diary\n",
      "\n",
      "monday - got a free chinese meal\n",
      " --------------------------------------------------\n",
      "random thoughts this should be my diary\n",
      "\n",
      " --------------------------------------------------\n",
      "pa$$ord\n",
      " --------------------------------------------------\n"
     ]
    }
   ],
   "source": [
    "for target in targets: print(f'{target.data_stream.read().decode()}\\n', '-'*50)"
   ],
   "metadata": {
    "collapsed": false
   }
  },
  {
   "cell_type": "markdown",
   "source": [
    "## Commit changes"
   ],
   "metadata": {
    "collapsed": false
   }
  },
  {
   "cell_type": "code",
   "execution_count": 6,
   "outputs": [],
   "source": [
    "file_path = \"file5.txt\""
   ],
   "metadata": {
    "collapsed": false
   }
  },
  {
   "cell_type": "code",
   "execution_count": 9,
   "outputs": [],
   "source": [
    "def commit_changes(paths: list):\n",
    "    return mrrepo.index.add(paths)"
   ],
   "metadata": {
    "collapsed": false
   }
  },
  {
   "cell_type": "code",
   "execution_count": 10,
   "outputs": [
    {
     "data": {
      "text/plain": "[(100644, e32092a83f837140c08e85a60ef16a6b2a208986, 0, file5.txt)]"
     },
     "execution_count": 10,
     "metadata": {},
     "output_type": "execute_result"
    }
   ],
   "source": [
    "commit_changes([file_path])"
   ],
   "metadata": {
    "collapsed": false
   }
  },
  {
   "cell_type": "markdown",
   "source": [
    "### Invalid file - FileNotFoundError"
   ],
   "metadata": {
    "collapsed": false
   }
  },
  {
   "cell_type": "code",
   "execution_count": 12,
   "outputs": [
    {
     "ename": "FileNotFoundError",
     "evalue": "[Errno 2] No such file or directory: 'file6.txt'",
     "output_type": "error",
     "traceback": [
      "\u001B[0;31m---------------------------------------------------------------------------\u001B[0m",
      "\u001B[0;31mFileNotFoundError\u001B[0m                         Traceback (most recent call last)",
      "Cell \u001B[0;32mIn[12], line 1\u001B[0m\n\u001B[0;32m----> 1\u001B[0m \u001B[43mcommit_changes\u001B[49m\u001B[43m(\u001B[49m\u001B[43m[\u001B[49m\u001B[38;5;124;43m'\u001B[39;49m\u001B[38;5;124;43mfile6.txt\u001B[39;49m\u001B[38;5;124;43m'\u001B[39;49m\u001B[43m]\u001B[49m\u001B[43m)\u001B[49m\n",
      "Cell \u001B[0;32mIn[9], line 2\u001B[0m, in \u001B[0;36mcommit_changes\u001B[0;34m(paths)\u001B[0m\n\u001B[1;32m      1\u001B[0m \u001B[38;5;28;01mdef\u001B[39;00m \u001B[38;5;21mcommit_changes\u001B[39m(paths: \u001B[38;5;28mlist\u001B[39m):\n\u001B[0;32m----> 2\u001B[0m     \u001B[38;5;28;01mreturn\u001B[39;00m \u001B[43mmrrepo\u001B[49m\u001B[38;5;241;43m.\u001B[39;49m\u001B[43mindex\u001B[49m\u001B[38;5;241;43m.\u001B[39;49m\u001B[43madd\u001B[49m\u001B[43m(\u001B[49m\u001B[43mpaths\u001B[49m\u001B[43m)\u001B[49m\n",
      "File \u001B[0;32m~/PycharmProjects/BackMeUP/venv/lib/python3.9/site-packages/git/index/base.py:815\u001B[0m, in \u001B[0;36mIndexFile.add\u001B[0;34m(self, items, force, fprogress, path_rewriter, write, write_extension_data)\u001B[0m\n\u001B[1;32m    811\u001B[0m \u001B[38;5;66;03m# This code needs a working tree, therefore we try not to run it unless required.\u001B[39;00m\n\u001B[1;32m    812\u001B[0m \u001B[38;5;66;03m# That way, we are OK on a bare repository as well.\u001B[39;00m\n\u001B[1;32m    813\u001B[0m \u001B[38;5;66;03m# If there are no paths, the rewriter has nothing to do either\u001B[39;00m\n\u001B[1;32m    814\u001B[0m \u001B[38;5;28;01mif\u001B[39;00m paths:\n\u001B[0;32m--> 815\u001B[0m     entries_added\u001B[38;5;241m.\u001B[39mextend(\u001B[38;5;28;43mself\u001B[39;49m\u001B[38;5;241;43m.\u001B[39;49m\u001B[43m_entries_for_paths\u001B[49m\u001B[43m(\u001B[49m\u001B[43mpaths\u001B[49m\u001B[43m,\u001B[49m\u001B[43m \u001B[49m\u001B[43mpath_rewriter\u001B[49m\u001B[43m,\u001B[49m\u001B[43m \u001B[49m\u001B[43mfprogress\u001B[49m\u001B[43m,\u001B[49m\u001B[43m \u001B[49m\u001B[43mentries\u001B[49m\u001B[43m)\u001B[49m)\n\u001B[1;32m    817\u001B[0m \u001B[38;5;66;03m# HANDLE ENTRIES\u001B[39;00m\n\u001B[1;32m    818\u001B[0m \u001B[38;5;28;01mif\u001B[39;00m entries:\n",
      "File \u001B[0;32m~/PycharmProjects/BackMeUP/venv/lib/python3.9/site-packages/git/util.py:144\u001B[0m, in \u001B[0;36munbare_repo.<locals>.wrapper\u001B[0;34m(self, *args, **kwargs)\u001B[0m\n\u001B[1;32m    142\u001B[0m     \u001B[38;5;28;01mraise\u001B[39;00m InvalidGitRepositoryError(\u001B[38;5;124m\"\u001B[39m\u001B[38;5;124mMethod \u001B[39m\u001B[38;5;124m'\u001B[39m\u001B[38;5;132;01m%s\u001B[39;00m\u001B[38;5;124m'\u001B[39m\u001B[38;5;124m cannot operate on bare repositories\u001B[39m\u001B[38;5;124m\"\u001B[39m \u001B[38;5;241m%\u001B[39m func\u001B[38;5;241m.\u001B[39m\u001B[38;5;18m__name__\u001B[39m)\n\u001B[1;32m    143\u001B[0m \u001B[38;5;66;03m# END bare method\u001B[39;00m\n\u001B[0;32m--> 144\u001B[0m \u001B[38;5;28;01mreturn\u001B[39;00m \u001B[43mfunc\u001B[49m\u001B[43m(\u001B[49m\u001B[38;5;28;43mself\u001B[39;49m\u001B[43m,\u001B[49m\u001B[43m \u001B[49m\u001B[38;5;241;43m*\u001B[39;49m\u001B[43margs\u001B[49m\u001B[43m,\u001B[49m\u001B[43m \u001B[49m\u001B[38;5;241;43m*\u001B[39;49m\u001B[38;5;241;43m*\u001B[39;49m\u001B[43mkwargs\u001B[49m\u001B[43m)\u001B[49m\n",
      "File \u001B[0;32m~/PycharmProjects/BackMeUP/venv/lib/python3.9/site-packages/git/index/util.py:109\u001B[0m, in \u001B[0;36mgit_working_dir.<locals>.set_git_working_dir\u001B[0;34m(self, *args, **kwargs)\u001B[0m\n\u001B[1;32m    107\u001B[0m os\u001B[38;5;241m.\u001B[39mchdir(\u001B[38;5;28mstr\u001B[39m(\u001B[38;5;28mself\u001B[39m\u001B[38;5;241m.\u001B[39mrepo\u001B[38;5;241m.\u001B[39mworking_tree_dir))\n\u001B[1;32m    108\u001B[0m \u001B[38;5;28;01mtry\u001B[39;00m:\n\u001B[0;32m--> 109\u001B[0m     \u001B[38;5;28;01mreturn\u001B[39;00m \u001B[43mfunc\u001B[49m\u001B[43m(\u001B[49m\u001B[38;5;28;43mself\u001B[39;49m\u001B[43m,\u001B[49m\u001B[43m \u001B[49m\u001B[38;5;241;43m*\u001B[39;49m\u001B[43margs\u001B[49m\u001B[43m,\u001B[49m\u001B[43m \u001B[49m\u001B[38;5;241;43m*\u001B[39;49m\u001B[38;5;241;43m*\u001B[39;49m\u001B[43mkwargs\u001B[49m\u001B[43m)\u001B[49m\n\u001B[1;32m    110\u001B[0m \u001B[38;5;28;01mfinally\u001B[39;00m:\n\u001B[1;32m    111\u001B[0m     os\u001B[38;5;241m.\u001B[39mchdir(cur_wd)\n",
      "File \u001B[0;32m~/PycharmProjects/BackMeUP/venv/lib/python3.9/site-packages/git/index/base.py:694\u001B[0m, in \u001B[0;36mIndexFile._entries_for_paths\u001B[0;34m(self, paths, path_rewriter, fprogress, entries)\u001B[0m\n\u001B[1;32m    692\u001B[0m \u001B[38;5;28;01massert\u001B[39;00m \u001B[38;5;28mlen\u001B[39m(entries_added) \u001B[38;5;241m==\u001B[39m \u001B[38;5;241m0\u001B[39m\n\u001B[1;32m    693\u001B[0m \u001B[38;5;28;01mfor\u001B[39;00m filepath \u001B[38;5;129;01min\u001B[39;00m \u001B[38;5;28mself\u001B[39m\u001B[38;5;241m.\u001B[39m_iter_expand_paths(paths):\n\u001B[0;32m--> 694\u001B[0m     entries_added\u001B[38;5;241m.\u001B[39mappend(\u001B[38;5;28;43mself\u001B[39;49m\u001B[38;5;241;43m.\u001B[39;49m\u001B[43m_store_path\u001B[49m\u001B[43m(\u001B[49m\u001B[43mfilepath\u001B[49m\u001B[43m,\u001B[49m\u001B[43m \u001B[49m\u001B[43mfprogress\u001B[49m\u001B[43m)\u001B[49m)\n\u001B[1;32m    695\u001B[0m \u001B[38;5;66;03m# END for each filepath\u001B[39;00m\n\u001B[1;32m    696\u001B[0m \u001B[38;5;66;03m# END path handling\u001B[39;00m\n\u001B[1;32m    697\u001B[0m \u001B[38;5;28;01mreturn\u001B[39;00m entries_added\n",
      "File \u001B[0;32m~/PycharmProjects/BackMeUP/venv/lib/python3.9/site-packages/git/index/base.py:639\u001B[0m, in \u001B[0;36mIndexFile._store_path\u001B[0;34m(self, filepath, fprogress)\u001B[0m\n\u001B[1;32m    636\u001B[0m \u001B[38;5;28;01mdef\u001B[39;00m \u001B[38;5;21m_store_path\u001B[39m(\u001B[38;5;28mself\u001B[39m, filepath: PathLike, fprogress: Callable) \u001B[38;5;241m-\u001B[39m\u001B[38;5;241m>\u001B[39m BaseIndexEntry:\n\u001B[1;32m    637\u001B[0m \u001B[38;5;250m    \u001B[39m\u001B[38;5;124;03m\"\"\"Store file at filepath in the database and return the base index entry\u001B[39;00m\n\u001B[1;32m    638\u001B[0m \u001B[38;5;124;03m    Needs the git_working_dir decorator active ! This must be assured in the calling code\"\"\"\u001B[39;00m\n\u001B[0;32m--> 639\u001B[0m     st \u001B[38;5;241m=\u001B[39m \u001B[43mos\u001B[49m\u001B[38;5;241;43m.\u001B[39;49m\u001B[43mlstat\u001B[49m\u001B[43m(\u001B[49m\u001B[43mfilepath\u001B[49m\u001B[43m)\u001B[49m  \u001B[38;5;66;03m# handles non-symlinks as well\u001B[39;00m\n\u001B[1;32m    640\u001B[0m     \u001B[38;5;28;01mif\u001B[39;00m S_ISLNK(st\u001B[38;5;241m.\u001B[39mst_mode):\n\u001B[1;32m    641\u001B[0m         \u001B[38;5;66;03m# in PY3, readlink is string, but we need bytes. In PY2, it's just OS encoded bytes, we assume UTF-8\u001B[39;00m\n\u001B[1;32m    642\u001B[0m         open_stream: Callable[[], BinaryIO] \u001B[38;5;241m=\u001B[39m \u001B[38;5;28;01mlambda\u001B[39;00m: BytesIO(force_bytes(os\u001B[38;5;241m.\u001B[39mreadlink(filepath), encoding\u001B[38;5;241m=\u001B[39mdefenc))\n",
      "\u001B[0;31mFileNotFoundError\u001B[0m: [Errno 2] No such file or directory: 'file6.txt'"
     ]
    }
   ],
   "source": [
    "commit_changes(['file6.txt'])"
   ],
   "metadata": {
    "collapsed": false
   }
  },
  {
   "cell_type": "code",
   "execution_count": null,
   "outputs": [],
   "source": [],
   "metadata": {
    "collapsed": false
   }
  }
 ],
 "metadata": {
  "kernelspec": {
   "display_name": "Python 3",
   "language": "python",
   "name": "python3"
  },
  "language_info": {
   "codemirror_mode": {
    "name": "ipython",
    "version": 2
   },
   "file_extension": ".py",
   "mimetype": "text/x-python",
   "name": "python",
   "nbconvert_exporter": "python",
   "pygments_lexer": "ipython2",
   "version": "2.7.6"
  }
 },
 "nbformat": 4,
 "nbformat_minor": 0
}
