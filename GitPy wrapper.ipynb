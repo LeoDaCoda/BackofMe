{
 "cells": [
  {
   "cell_type": "markdown",
   "source": [
    "# GitPy\n",
    "### https://gitpython.readthedocs.io/en/stable/index.html"
   ],
   "metadata": {
    "collapsed": false
   }
  },
  {
   "cell_type": "markdown",
   "source": [
    "### Install && Imports"
   ],
   "metadata": {
    "collapsed": false
   }
  },
  {
   "cell_type": "code",
   "execution_count": null,
   "outputs": [],
   "source": [
    "!pip install -r requirements.txt"
   ],
   "metadata": {
    "collapsed": false
   }
  },
  {
   "cell_type": "code",
   "execution_count": 3,
   "outputs": [],
   "source": [
    "from git import Repo"
   ],
   "metadata": {
    "collapsed": false
   }
  },
  {
   "cell_type": "markdown",
   "source": [
    "## Configure local repo"
   ],
   "metadata": {
    "collapsed": false
   }
  },
  {
   "cell_type": "code",
   "execution_count": 4,
   "outputs": [],
   "source": [
    "local_root = 'test_file_sys'"
   ],
   "metadata": {
    "collapsed": false
   }
  },
  {
   "cell_type": "code",
   "execution_count": 74,
   "outputs": [],
   "source": [
    "mrrepo = Repo(local_root)"
   ],
   "metadata": {
    "collapsed": false
   }
  },
  {
   "cell_type": "markdown",
   "source": [
    "## Display level 1 contents"
   ],
   "metadata": {
    "collapsed": false
   }
  },
  {
   "cell_type": "code",
   "execution_count": 7,
   "outputs": [
    {
     "data": {
      "text/plain": "[<git.Tree \"09738889ae1914811d418aeefc52a94b50e1a3fb\">,\n <git.Tree \"32b408c2333033af5da5cd7eec0fbeb1e2101c59\">,\n <git.Blob \"e69de29bb2d1d6434b8b29ae775ad8c2e48c5391\">]"
     },
     "execution_count": 7,
     "metadata": {},
     "output_type": "execute_result"
    }
   ],
   "source": [
    "tree = mrrepo.tree()\n",
    "files_dirs = [fd for fd in tree]\n",
    "files_dirs"
   ],
   "metadata": {
    "collapsed": false
   }
  },
  {
   "cell_type": "markdown",
   "source": [
    "#### Prettier"
   ],
   "metadata": {
    "collapsed": false
   }
  },
  {
   "cell_type": "code",
   "execution_count": 8,
   "outputs": [
    {
     "data": {
      "text/plain": "[(<git.Tree \"09738889ae1914811d418aeefc52a94b50e1a3fb\">, 'Desktop', 'tree'),\n (<git.Tree \"32b408c2333033af5da5cd7eec0fbeb1e2101c59\">, 'Downloads', 'tree'),\n (<git.Blob \"e69de29bb2d1d6434b8b29ae775ad8c2e48c5391\">, 'file5.txt', 'blob')]"
     },
     "execution_count": 8,
     "metadata": {},
     "output_type": "execute_result"
    }
   ],
   "source": [
    "files_dirs = [(fd, fd.name, fd.type) for fd in tree]\n",
    "files_dirs"
   ],
   "metadata": {
    "collapsed": false
   }
  },
  {
   "cell_type": "markdown",
   "source": [
    "## Print all files and dirs"
   ],
   "metadata": {
    "collapsed": false
   }
  },
  {
   "cell_type": "code",
   "execution_count": 23,
   "outputs": [],
   "source": [
    "def print_files_from_git(tree, delim=' ', i = 0):\n",
    "    files_dirs = [fd for fd in tree]\n",
    "    for fd in files_dirs:\n",
    "        print(f'{delim if i != 0 else \"\"}| {fd.path}, {fd.type}')\n",
    "        if fd.type == \"tree\":\n",
    "            print_files_from_git(fd, delim*4, i+1)\n"
   ],
   "metadata": {
    "collapsed": false
   }
  },
  {
   "cell_type": "code",
   "execution_count": 24,
   "outputs": [
    {
     "name": "stdout",
     "output_type": "stream",
     "text": [
      "| Desktop, tree\n",
      "----| Desktop/1.txt, blob\n",
      "----| Desktop/file, blob\n",
      "| Downloads, tree\n",
      "----| Downloads/dir1, tree\n",
      "----------------| Downloads/dir1/file2.txt, blob\n",
      "----------------| Downloads/dir1/file3.txt, blob\n",
      "----| Downloads/file4.txt, blob\n",
      "| file5.txt, blob\n"
     ]
    }
   ],
   "source": [
    "print_files_from_git(tree, '-')"
   ],
   "metadata": {
    "collapsed": false
   }
  },
  {
   "cell_type": "markdown",
   "source": [
    "## File Versions"
   ],
   "metadata": {
    "collapsed": false
   }
  },
  {
   "cell_type": "code",
   "execution_count": 25,
   "outputs": [],
   "source": [
    "myfile = 'Downloads/dir1/file2.txt'"
   ],
   "metadata": {
    "collapsed": false
   }
  },
  {
   "cell_type": "code",
   "execution_count": 28,
   "outputs": [
    {
     "data": {
      "text/plain": "[<git.Commit \"480ddf7f381374b11d3e245690023b6f76f4d987\">,\n <git.Commit \"a8ed8bb567dff4de249781ed26cf7e6a34c74b04\">,\n <git.Commit \"f886763b622828dd57b01f815b10464cddcf8be6\">]"
     },
     "execution_count": 28,
     "metadata": {},
     "output_type": "execute_result"
    }
   ],
   "source": [
    "# https://stackoverflow.com/a/46984198\n",
    "commits_for_file_generator = mrrepo.iter_commits('--all', max_count=100, paths=myfile)\n",
    "commits_for_file = [c for c in commits_for_file_generator]\n",
    "commits_for_file\n"
   ],
   "metadata": {
    "collapsed": false
   }
  },
  {
   "cell_type": "code",
   "execution_count": 32,
   "outputs": [
    {
     "name": "stdout",
     "output_type": "stream",
     "text": [
      "480ddf7f381374b11d3e245690023b6f76f4d987\n",
      "a8ed8bb567dff4de249781ed26cf7e6a34c74b04\n",
      "f886763b622828dd57b01f815b10464cddcf8be6\n"
     ]
    }
   ],
   "source": [
    "for c in commits_for_file:\n",
    "    print(str(c))"
   ],
   "metadata": {
    "collapsed": false
   }
  },
  {
   "cell_type": "markdown",
   "source": [],
   "metadata": {
    "collapsed": false
   }
  },
  {
   "cell_type": "code",
   "execution_count": 91,
   "outputs": [],
   "source": [
    "def commitIDs_for_file(repo: Repo, file: str) -> tuple:\n",
    "    commits = repo.iter_commits('--all', max_count=100, paths=file)\n",
    "    return tuple([str(c) for c in commits])\n"
   ],
   "metadata": {
    "collapsed": false
   }
  },
  {
   "cell_type": "code",
   "execution_count": 92,
   "outputs": [
    {
     "data": {
      "text/plain": "('480ddf7f381374b11d3e245690023b6f76f4d987',\n 'a8ed8bb567dff4de249781ed26cf7e6a34c74b04',\n 'f886763b622828dd57b01f815b10464cddcf8be6')"
     },
     "execution_count": 92,
     "metadata": {},
     "output_type": "execute_result"
    }
   ],
   "source": [
    "commitIDs_for_file(mrrepo, myfile)"
   ],
   "metadata": {
    "collapsed": false
   }
  },
  {
   "cell_type": "markdown",
   "source": [
    "#### Let get Fancy $$"
   ],
   "metadata": {
    "collapsed": false
   }
  },
  {
   "cell_type": "code",
   "execution_count": 93,
   "outputs": [],
   "source": [
    "def print_files_from_git(tree, func, repo=mrrepo, delim=' ', i = 0):\n",
    "    files_dirs = [fd for fd in tree]\n",
    "    for fd in files_dirs:\n",
    "        if fd.type == \"tree\":\n",
    "            print(f'{delim if i != 0 else \"\"}| {fd.path}, {fd.type}')\n",
    "            print_files_from_git(fd, func, delim=delim*4, i=i+1)\n",
    "        else:\n",
    "            print(f'{delim if i != 0 else \"\"}| {fd.path}, {fd.type}', end=' ')\n",
    "            print(func(repo, fd.path))"
   ],
   "metadata": {
    "collapsed": false
   }
  },
  {
   "cell_type": "code",
   "execution_count": 96,
   "outputs": [
    {
     "name": "stdout",
     "output_type": "stream",
     "text": [
      "| Desktop, tree\n",
      "----| Desktop/1.txt, blob ('ece86661a0e1925ae8ef5c4a133f2efef0ffaa30', 'f886763b622828dd57b01f815b10464cddcf8be6')\n",
      "----| Desktop/file, blob ('f886763b622828dd57b01f815b10464cddcf8be6',)\n",
      "| Downloads, tree\n",
      "----| Downloads/dir1, tree\n",
      "----------------| Downloads/dir1/file2.txt, blob ('480ddf7f381374b11d3e245690023b6f76f4d987', 'a8ed8bb567dff4de249781ed26cf7e6a34c74b04', 'f886763b622828dd57b01f815b10464cddcf8be6')\n",
      "----------------| Downloads/dir1/file3.txt, blob ('f886763b622828dd57b01f815b10464cddcf8be6',)\n",
      "----| Downloads/file4.txt, blob ('f886763b622828dd57b01f815b10464cddcf8be6',)\n",
      "| file5.txt, blob ('f886763b622828dd57b01f815b10464cddcf8be6',)\n"
     ]
    }
   ],
   "source": [
    "tree = mrrepo.tree()\n",
    "print_files_from_git(tree, func=commitIDs_for_file, delim='-')"
   ],
   "metadata": {
    "collapsed": false
   }
  },
  {
   "cell_type": "markdown",
   "source": [
    "## Printing file contents"
   ],
   "metadata": {
    "collapsed": false
   }
  },
  {
   "cell_type": "code",
   "execution_count": 117,
   "outputs": [],
   "source": [
    "myfile = 'Downloads/dir1/file2.txt'\n",
    "tree = mrrepo.tree()\n",
    "path = myfile.split(\"/\")"
   ],
   "metadata": {
    "collapsed": false
   }
  },
  {
   "cell_type": "code",
   "execution_count": 118,
   "outputs": [
    {
     "data": {
      "text/plain": "<git.Blob \"e4d63b207dab9939a4f734aa334b92e5de0c9c04\">"
     },
     "execution_count": 118,
     "metadata": {},
     "output_type": "execute_result"
    }
   ],
   "source": [
    "sub_dir = tree\n",
    "for p in path: sub_dir = sub_dir[p]\n",
    "sub_dir"
   ],
   "metadata": {
    "collapsed": false
   }
  },
  {
   "cell_type": "code",
   "execution_count": 119,
   "outputs": [
    {
     "name": "stdout",
     "output_type": "stream",
     "text": [
      "random thoughts this should be my diary\n",
      "\n",
      "monday - got a free chinese meal\n"
     ]
    }
   ],
   "source": [
    "print(sub_dir.data_stream.read().decode())"
   ],
   "metadata": {
    "collapsed": false
   }
  },
  {
   "cell_type": "markdown",
   "source": [
    "### Printing previous versions"
   ],
   "metadata": {
    "collapsed": false
   }
  },
  {
   "cell_type": "code",
   "execution_count": null,
   "outputs": [],
   "source": [
    "myfile = 'Downloads/dir1/file2.txt'\n",
    "tree = mrrepo.tree()\n",
    "path = myfile.split(\"/\")\n",
    "commits = commitIDs_for_file(mrrepo, myfile)"
   ],
   "metadata": {
    "collapsed": false
   }
  },
  {
   "cell_type": "code",
   "execution_count": 125,
   "outputs": [],
   "source": [
    "# c = mrrepo.commit(commits[1])\n",
    "# c_tree = c.tree\n",
    "commit_trees = [mrrepo.commit(c).tree for c in commits]\n",
    "targets = [commit_trees[i][f'{myfile}'] for i in range(len(commit_trees))]"
   ],
   "metadata": {
    "collapsed": false
   }
  },
  {
   "cell_type": "code",
   "execution_count": 129,
   "outputs": [
    {
     "name": "stdout",
     "output_type": "stream",
     "text": [
      "random thoughts this should be my diary\n",
      "\n",
      "monday - got a free chinese meal\n",
      " --------------------------------------------------\n",
      "random thoughts this should be my diary\n",
      "\n",
      " --------------------------------------------------\n",
      "pa$$ord\n",
      " --------------------------------------------------\n"
     ]
    }
   ],
   "source": [
    "for target in targets: print(f'{target.data_stream.read().decode()}\\n', '-'*50)"
   ],
   "metadata": {
    "collapsed": false
   }
  },
  {
   "cell_type": "code",
   "execution_count": null,
   "outputs": [],
   "source": [],
   "metadata": {
    "collapsed": false
   }
  }
 ],
 "metadata": {
  "kernelspec": {
   "display_name": "Python 3",
   "language": "python",
   "name": "python3"
  },
  "language_info": {
   "codemirror_mode": {
    "name": "ipython",
    "version": 2
   },
   "file_extension": ".py",
   "mimetype": "text/x-python",
   "name": "python",
   "nbconvert_exporter": "python",
   "pygments_lexer": "ipython2",
   "version": "2.7.6"
  }
 },
 "nbformat": 4,
 "nbformat_minor": 0
}
